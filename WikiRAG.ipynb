{
 "cells": [
  {
   "cell_type": "markdown",
   "metadata": {},
   "source": [
    "# WikiRAG\n",
    "\n",
    "## Brought to you by Sigma Inc."
   ]
  },
  {
   "cell_type": "code",
   "execution_count": 5,
   "metadata": {},
   "outputs": [],
   "source": [
    "from wikirag import WikiRAG\n",
    "from langchain_community.chat_models import ChatOllama"
   ]
  },
  {
   "cell_type": "code",
   "execution_count": 2,
   "metadata": {},
   "outputs": [],
   "source": [
    "basic_wikirag = WikiRAG()"
   ]
  },
  {
   "cell_type": "code",
   "execution_count": 8,
   "metadata": {},
   "outputs": [],
   "source": [
    "question = \"Did Germans fool the French by simply going around the Maginot line during WW2?\""
   ]
  },
  {
   "cell_type": "code",
   "execution_count": 9,
   "metadata": {},
   "outputs": [
    {
     "data": {
      "text/plain": [
       "AIMessage(content=\"A common myth!\\n\\nNo, the Germans did not simply go around the Maginot Line to defeat France in World War II. The Maginot Line was a series of fortifications built by France along its borders with Germany and Italy before the war. It was designed to prevent a German invasion.\\n\\nWhile it is true that the Maginot Line was breached, it was not because the Germans simply went around it. Instead, the Germans developed a more effective strategy:\\n\\n1. **The invasion route**: The German Army invaded through Belgium and the Netherlands, rather than directly attacking the Maginot Line along the French-German border. This allowed them to bypass the fortifications.\\n2. **Armored divisions**: Germany had developed highly mobile armored divisions, led by General Heinz Guderian, which were designed to break through enemy lines quickly. These divisions were instrumental in the German victory.\\n3. **The Ardennes campaign**: The Germans launched a surprise attack through the Ardennes forest in Belgium and Luxembourg, which was not heavily fortified like the Maginot Line. This allowed them to rapidly advance into France.\\n\\nOn May 10, 1940, Germany's Panzer Group A and Panzer Group B, led by Guderian and General Erich von Manstein respectively, launched a massive armored assault through Belgium and Luxembourg, bypassing the Maginot Line. The French army was caught off guard and quickly overwhelmed.\\n\\nThe Maginot Line itself played a relatively minor role in the defeat of France. While it did provide some resistance to German forces, it was not designed to withstand the scale or speed of the German invasion.\\n\\nIn summary, while the Germans did exploit the weaknesses of the Maginot Line, it was not simply a matter of going around it. The German strategy involved a combination of rapid armored advances, surprise attacks, and outmaneuvering the French defenses.\", additional_kwargs={}, response_metadata={'model': 'llama3.1:8b', 'created_at': '2024-12-05T18:32:22.7942288Z', 'message': {'role': 'assistant', 'content': ''}, 'done_reason': 'stop', 'done': True, 'total_duration': 173360650900, 'load_duration': 51037600, 'prompt_eval_count': 28, 'prompt_eval_duration': 7825000000, 'eval_count': 383, 'eval_duration': 165483000000}, id='run-9365fbf8-4903-44a9-a859-bb7f01013e34-0')"
      ]
     },
     "execution_count": 9,
     "metadata": {},
     "output_type": "execute_result"
    }
   ],
   "source": [
    "ChatOllama(model = basic_wikirag.model_name).invoke(question)"
   ]
  },
  {
   "cell_type": "code",
   "execution_count": 10,
   "metadata": {},
   "outputs": [
    {
     "data": {
      "text/plain": [
       "AIMessage(content=\"No, that's not what happened. The text does not mention the German invasion of France in WW2, and it is well-known that Germany invaded through the Ardennes forest, which was a weak point in the Allied defenses, rather than going around the Maginot Line, which was a heavily fortified defensive line along the French-German border.\", additional_kwargs={}, response_metadata={'model': 'llama3.1:8b', 'created_at': '2024-12-05T18:40:44.2356199Z', 'message': {'role': 'assistant', 'content': ''}, 'done_reason': 'stop', 'done': True, 'total_duration': 495366382900, 'load_duration': 73802800, 'prompt_eval_count': 1797, 'prompt_eval_duration': 469346000000, 'eval_count': 71, 'eval_duration': 25944000000}, id='run-65a0a82f-b647-4049-aec8-efbf953b05f8-0')"
      ]
     },
     "execution_count": 10,
     "metadata": {},
     "output_type": "execute_result"
    }
   ],
   "source": [
    "basic_wikirag.query(question)"
   ]
  }
 ],
 "metadata": {
  "kernelspec": {
   "display_name": "base",
   "language": "python",
   "name": "python3"
  },
  "language_info": {
   "codemirror_mode": {
    "name": "ipython",
    "version": 3
   },
   "file_extension": ".py",
   "mimetype": "text/x-python",
   "name": "python",
   "nbconvert_exporter": "python",
   "pygments_lexer": "ipython3",
   "version": "3.12.3"
  }
 },
 "nbformat": 4,
 "nbformat_minor": 2
}
