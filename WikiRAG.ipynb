{
 "cells": [
  {
   "cell_type": "markdown",
   "metadata": {},
   "source": [
    "# WikiRAG\n",
    "\n",
    "## Brought to you by Sigma Inc."
   ]
  },
  {
   "cell_type": "code",
   "execution_count": 1,
   "metadata": {},
   "outputs": [],
   "source": [
    "from wikirag import WikiRAG\n",
    "from langchain_community.chat_models import ChatOllama"
   ]
  },
  {
   "cell_type": "code",
   "execution_count": 13,
   "metadata": {},
   "outputs": [],
   "source": [
    "basic_wikirag = WikiRAG(model_name=\"llama3.2:1b\",documents_retrieved=10)"
   ]
  },
  {
   "cell_type": "code",
   "execution_count": 14,
   "metadata": {},
   "outputs": [],
   "source": [
    "question = \"Who was the designer of the original Death Star from Episode IV?\""
   ]
  },
  {
   "cell_type": "code",
   "execution_count": 22,
   "metadata": {},
   "outputs": [
    {
     "name": "stdout",
     "output_type": "stream",
     "text": [
      "The original Death Star design was created by a team led by George Lucas, with input from Industrial Light & Magic (ILM). The concept and design of the Death Star were developed in collaboration with Lucas, but the actual physical design was handled by ILM.\n",
      "\n",
      "George Lucas has mentioned that he envisioned the Death Star as a massive shield generator platform, rather than a traditional space station. However, due to budget constraints and technical difficulties, the design evolved into the iconic Imperial battlestation we know today.\n",
      "\n",
      "It's worth noting that the original concept art for the Death Star was done by Ralph McQuarrie, who later went on to create the iconic Star Wars character of Darth Vader.\n"
     ]
    }
   ],
   "source": [
    "print(ChatOllama(model = basic_wikirag.model_name).invoke(question).content)"
   ]
  },
  {
   "cell_type": "code",
   "execution_count": 16,
   "metadata": {},
   "outputs": [
    {
     "data": {
      "text/plain": [
       "([{'page_title': 'Obi-Wan Kenobi (miniseries)',\n",
       "   'section_title': 'Cast and characters',\n",
       "   'subsection_title': 'Recurring co-stars'},\n",
       "  {'page_title': 'Vinylmation',\n",
       "   'section_title': 'Series',\n",
       "   'subsection_title': ''},\n",
       "  {'page_title': 'Star Wars Legends: Ambush at Corellia',\n",
       "   'section_title': 'Plot Summary',\n",
       "   'subsection_title': ''},\n",
       "  {'page_title': 'Star Wars Legends: Ambush at Corellia',\n",
       "   'section_title': 'Publishing',\n",
       "   'subsection_title': ''},\n",
       "  {'page_title': 'Battle of Yavin',\n",
       "   'section_title': 'Universe',\n",
       "   'subsection_title': ''},\n",
       "  {'page_title': 'List of Star Wars characters',\n",
       "   'section_title': 'S',\n",
       "   'subsection_title': 'The Seventh Sister'},\n",
       "  {'page_title': 'Asajj Ventress',\n",
       "   'section_title': 'Relationships',\n",
       "   'subsection_title': 'Mentorship tree'},\n",
       "  {'page_title': 'Star Wars Legends: Ambush at Corellia',\n",
       "   'section_title': 'Plot Summary',\n",
       "   'subsection_title': 'Characters'},\n",
       "  {'page_title': 'Lego Star Wars: Terrifying Tales',\n",
       "   'section_title': 'Reception',\n",
       "   'subsection_title': ''},\n",
       "  {'page_title': 'List of Star Wars comic books',\n",
       "   'section_title': 'Writers',\n",
       "   'subsection_title': ''}],\n",
       " array([0.27877796, 0.28616643, 0.28653598, 0.29034302, 0.29079914,\n",
       "        0.29465926, 0.29516825, 0.29613987, 0.30195946, 0.30752122],\n",
       "       dtype=float32))"
      ]
     },
     "execution_count": 16,
     "metadata": {},
     "output_type": "execute_result"
    }
   ],
   "source": [
    "basic_wikirag.db_search(question)"
   ]
  },
  {
   "cell_type": "code",
   "execution_count": 19,
   "metadata": {},
   "outputs": [
    {
     "name": "stdout",
     "output_type": "stream",
     "text": [
      "\n",
      "There are various series to choose from: Below are a list of popular series previously released.\n",
      "\n",
      "Park series feature designs relating to Disney theme park attractions and characters.\n",
      "Urban series vinyls have designs that are more open-ended than Park vinyls as they do not need to relate to Disney or its theme parks.\n",
      "Eachez series, limited edition blind boxes container 1 of 2 possible vinyls at a ratio of 9:10 or 1:10.\n",
      "Park Starz series, featuring park characters.\n",
      "Cutesters series\n",
      "Holiday series\n",
      "Vinylmation Jr series\n",
      "Open Edition series, where buyers know what figure they are getting. There are many sub-series, such as Phineas and Ferb series, Nerds series, Sports series, Bakery series, Big Eyes series, Walt Disney World 40th Anniversary, Disney Vacation Club series, and others.\n",
      "Gravity Falls series\n",
      "Limited Release series, which includes The Nightmare Before Christmas series, Toy Story series, Pirates of the Caribbean series, Brave series and others.\n",
      "Limited Edition series, which includes Disney Afternoon series, Sushi series, among the others.\n",
      "Commemorative & Events series\n",
      "Cast Exclusive series\n",
      "Animation series\n",
      "ONE-OF-A-KIND series\n",
      "Accessories series, featuring Ear Hat series\n",
      "Disney Store series, featuring New York City Exclusives series, Villains series, Furry Friends series, Disney's The Lion King series and more.\n",
      "Robots series\n",
      "Disney Cruise Line Exclusives series\n",
      "Monorail series, which includes Disney-Pixar Cars Series\n",
      "The Muppets series\n",
      "Mickey Mouse Club series\n",
      "Marvel Comics series\n",
      "Captain America: Civil War series\n",
      "Alice in Wonderland series\n",
      "Star Wars series\n",
      "Indiana Jones series\n",
      "Create Your Own series: This consists of blank 3\" and 9\" Vinylmation figures, with no artwork printed on them. These vinyls are available in several colors, including red, yellow, pink, purple, black, and white, as well as a glow-in-the-dark green version. Unlike the other series, buyers are aware of the color of vinyl they will buy prior to purchase by way of a window on the packaging. The purpose of blank Vinylmations is, similar to toys like the Munny by Kidrobot, to provide a three-dimensional canvas on which fans can play artist and draw, paint, or otherwise apply their own art or designs to the figure, creating their own one-of-a-kind piece of Disney art. To assist fans in customization, Disney has recently introduced decals, rhinestones, and colored pencils embellished with Vinylmation motifs to use in the creation of their figures. Blank or customized vinyls are not accepted for trade at Disney Parks.\n",
      "\n",
      "\n",
      "== References ==\n",
      "14 years after Return of the Jedi, a New Republic Intelligence agent comes to Han telling him that they have a hidden enemy and none of the spies for the New Republic have reported back from Corellia. The agent asks Han to fulfill a mission for the Republic. But when Han goes to his home planet Corellia, he learns that the system of Corellia, consisting of several planets, is on the brink of civil war.\n",
      "Suddenly, Han, Leia, an their children are in a very dangerous position. The only visible way out is to meet a rebel leader's impossible demands. And with no way to contact Luke Skywalker, Han and Leia are on their own.\n",
      "Ambush at Corellia was published on February 2, 1995, by Bantam Books, under the imprint Bantam Spectra. According to the inside cover of the book, its paperback ISBN is 0553298038.\n",
      "The Star Wars universe unfolds in a galaxy inhabited by humans and numerous extraterrestrial species. It is the stage for conflicts between Jedi knights and Sith lords, individuals sensitive to the Force, a mysterious energy field that grants them psychic abilities. The Jedi master the light side of the Force, a beneficial and defensive power, to maintain peace in the galaxy. The Sith, on the other hand, harness the dark side, a harmful and destructive power, for their personal use and to dominate the galaxy.\n",
      "Since the acquisition of Lucasfilm by the Walt Disney Company, there are two Star Wars universes: \"Legends\" and \"Canon.\" They share the six original films and the television series The Clone Wars. The Legends universe additionally incorporates complementary stories presented in books, comics, TV movies, or games released before 2014. The Canon universe, on the other hand, encompasses the stories from the films and other materials released since 2014.\n",
      "\n",
      "\n",
      "14 years after Return of the Jedi, a New Republic Intelligence agent comes to Han telling him that they have a hidden enemy and none of the spies for the New Republic have reported back from Corellia. The agent asks Han to fulfill a mission for the Republic. But when Han goes to his home planet Corellia, he learns that the system of Corellia, consisting of several planets, is on the brink of civil war.\n",
      "Suddenly, Han, Leia, an their children are in a very dangerous position. The only visible way out is to meet a rebel leader's impossible demands. And with no way to contact Luke Skywalker, Han and Leia are on their own.\n",
      "The review aggregator website Rotten Tomatoes reported an approval rating of 100%, based on 5 reviews.\n",
      "This is a list of Star Wars comic book writers. It covers those who have written for series, one-shots, film adaptations, and comics from Star Wars Tales.\n"
     ]
    }
   ],
   "source": [
    "print(basic_wikirag.wikipedia_retriever(question))"
   ]
  },
  {
   "cell_type": "code",
   "execution_count": 20,
   "metadata": {},
   "outputs": [
    {
     "name": "stdout",
     "output_type": "stream",
     "text": [
      "There isn't any information in the provided text about the designer of the original Death Star from Episode IV. The text discusses the various series, including Park Series, Urban Series, Eachez Series, and others, as well as their features, designs, and exclusives. It also mentions the Disney Store series, Robos Series, Mickey Mouse Club series, Marvel Comics series, Captain America: Civil War series, Alice in Wonderland series, Star Wars series, Indiana Jones series, Create Your Own series, and more, but it does not provide any information about the Death Star's design or its creator.\n"
     ]
    }
   ],
   "source": [
    "print(basic_wikirag.query(question).content)"
   ]
  }
 ],
 "metadata": {
  "kernelspec": {
   "display_name": "base",
   "language": "python",
   "name": "python3"
  },
  "language_info": {
   "codemirror_mode": {
    "name": "ipython",
    "version": 3
   },
   "file_extension": ".py",
   "mimetype": "text/x-python",
   "name": "python",
   "nbconvert_exporter": "python",
   "pygments_lexer": "ipython3",
   "version": "3.12.3"
  }
 },
 "nbformat": 4,
 "nbformat_minor": 2
}
