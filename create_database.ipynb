{
 "cells": [
  {
   "cell_type": "code",
   "execution_count": 1,
   "metadata": {},
   "outputs": [],
   "source": [
    "import vector_database\n",
    "import embedding\n",
    "import wikipedia"
   ]
  },
  {
   "cell_type": "markdown",
   "metadata": {},
   "source": [
    "Titles of wikipedia articles that we want to have in our database:"
   ]
  },
  {
   "cell_type": "code",
   "execution_count": 6,
   "metadata": {},
   "outputs": [],
   "source": [
    "page_titles = [\n",
    "    \"United States\",\n",
    "    \"Python (programming language)\",\n",
    "   \"Blueberry\",\n",
    "    \"Donald Tusk\",\n",
    "    \"Vector space\",\n",
    "    \"Necktie\",\n",
    "    \"Sushi\",\n",
    "    \"Bicycle\",\n",
    "    \"Computer\",\n",
    "    \"Horse\",\n",
    "    \"Jupiter\",\n",
    "    \"Ordovician\",\n",
    "    \"Piano\",\n",
    "    \"2006 FIFA World Cup final\",\n",
    "    \n",
    "]"
   ]
  },
  {
   "cell_type": "markdown",
   "metadata": {},
   "source": [
    "Database name should end in \"db\", so then it is ignored by git:"
   ]
  },
  {
   "cell_type": "code",
   "execution_count": 3,
   "metadata": {},
   "outputs": [],
   "source": [
    "database_name = \"wiki_db\""
   ]
  },
  {
   "cell_type": "markdown",
   "metadata": {},
   "source": [
    "This cell may take some time:"
   ]
  },
  {
   "cell_type": "code",
   "execution_count": 7,
   "metadata": {},
   "outputs": [
    {
     "name": "stdout",
     "output_type": "stream",
     "text": [
      "Skipping United States - Etymology\n",
      "Skipping United States - History\n",
      "Skipping United States - Geography\n",
      "Skipping United States - Government and politics\n",
      "Skipping United States - Economy\n",
      "Skipping United States - Demographics\n",
      "Skipping United States - Culture and society\n",
      "Loaded embeddings for United States\n",
      "Skipping Python (programming language) - History\n",
      "Skipping Python (programming language) - Design philosophy and features\n",
      "Skipping Python (programming language) - Syntax and semantics\n",
      "Skipping Python (programming language) - Programming examples\n",
      "Skipping Python (programming language) - Libraries\n",
      "Skipping Python (programming language) - Development environments\n",
      "Skipping Python (programming language) - Implementations\n",
      "Skipping Python (programming language) - Development\n",
      "Skipping Python (programming language) - API documentation generators\n",
      "Skipping Python (programming language) - Naming\n",
      "Skipping Python (programming language) - Popularity\n",
      "Skipping Python (programming language) - Uses\n",
      "Skipping Python (programming language) - Languages influenced by Python\n",
      "Loaded embeddings for Python (programming language)\n",
      "Skipping Blueberry - Description\n",
      "Skipping Blueberry - Species\n",
      "Skipping Blueberry - Distribution\n",
      "Skipping Blueberry - Cultivation\n",
      "Skipping Blueberry - Uses\n",
      "Loaded embeddings for Blueberry\n",
      "Skipping Donald Tusk - Early life\n",
      "Skipping Donald Tusk - Early political career\n",
      "Skipping Donald Tusk - 2005 Polish presidential election\n",
      "Skipping Donald Tusk - First Premiership (2007–2014)\n",
      "Skipping Donald Tusk - President of the European Council (2014–2019)\n",
      "Skipping Donald Tusk - Second premiership (2023–present)\n",
      "Skipping Donald Tusk - Personal life\n",
      "Skipping Donald Tusk - Honours and awards\n",
      "Skipping Donald Tusk - Gallery\n",
      "Loaded embeddings for Donald Tusk\n",
      "Skipping Vector space - Definition and basic properties\n",
      "Skipping Vector space - Bases, vector coordinates, and subspaces\n",
      "Skipping Vector space - History\n",
      "Skipping Vector space - Examples\n",
      "Skipping Vector space - Linear maps and matrices\n",
      "Skipping Vector space - Basic constructions\n",
      "Skipping Vector space - Vector spaces with additional structure\n",
      "Skipping Vector space - Related structures\n",
      "Skipping Vector space - Citations\n",
      "Loaded embeddings for Vector space\n",
      "Skipping Necktie - History\n",
      "Skipping Necktie - Types\n",
      "Skipping Necktie - Knots\n",
      "Skipping Necktie - Ties as a sign of membership\n",
      "Skipping Necktie - Use by females\n",
      "Skipping Necktie - Occasions for neckties\n",
      "Skipping Necktie - Opposition to neckties\n",
      "Skipping Necktie - Health and safety hazards\n",
      "Loaded embeddings for Necktie\n",
      "Skipping Sushi - History\n",
      "Skipping Sushi - Types\n",
      "Skipping Sushi - Western-style sushi\n",
      "Skipping Sushi - Similar dishes in Asia\n",
      "Skipping Sushi - Ingredients\n",
      "Skipping Sushi - Nutrition\n",
      "Skipping Sushi - Health risks\n",
      "Skipping Sushi - Sustainable sushi\n",
      "Skipping Sushi - Presentation\n",
      "Skipping Sushi - Glossary\n",
      "Skipping Sushi - Etiquette\n",
      "Skipping Sushi - Utensils used in making sushi\n",
      "Skipping Sushi - Gallery\n",
      "Loaded embeddings for Sushi\n",
      "Loaded embeddings for Bicycle\n",
      "Loaded embeddings for Computer\n",
      "Loaded embeddings for Horse\n",
      "Loaded embeddings for Jupiter\n",
      "Loaded embeddings for Ordovician\n",
      "Loaded embeddings for Piano\n",
      "Loaded embeddings for 2006 FIFA World Cup final\n"
     ]
    }
   ],
   "source": [
    "embeddings = []\n",
    "metadata = []\n",
    "\n",
    "db = vector_database.VectorDatabaseWraper(database_name)\n",
    "\n",
    "for page_title in page_titles:\n",
    "    section_titles = wikipedia.get_section_titles(page_title)\n",
    "    for section_title in section_titles:\n",
    "\n",
    "        # check if the section is already in the databases\n",
    "        if db.has_record({\"page_title\": page_title, \"section_title\": section_title}):\n",
    "            print(f\"Skipping {page_title} - {section_title}\")\n",
    "            continue\n",
    "        section_text = wikipedia.get_section_text(page_title, section_title)\n",
    "\n",
    "        embeddings.extend(embedding.embedding([section_text]))\n",
    "\n",
    "        metadata.append({\n",
    "            \"page_title\": page_title,\n",
    "            \"section_title\": section_title\n",
    "        })\n",
    "    print(f\"Loaded embeddings for {page_title}\")\n",
    "    "
   ]
  },
  {
   "cell_type": "code",
   "execution_count": 8,
   "metadata": {},
   "outputs": [],
   "source": [
    "db.add(embeddings, metadata)\n",
    "db.save(database_name)"
   ]
  }
 ],
 "metadata": {
  "kernelspec": {
   "display_name": ".venv",
   "language": "python",
   "name": "python3"
  },
  "language_info": {
   "codemirror_mode": {
    "name": "ipython",
    "version": 3
   },
   "file_extension": ".py",
   "mimetype": "text/x-python",
   "name": "python",
   "nbconvert_exporter": "python",
   "pygments_lexer": "ipython3",
   "version": "3.12.4"
  }
 },
 "nbformat": 4,
 "nbformat_minor": 2
}
