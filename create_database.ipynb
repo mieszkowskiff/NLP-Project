{
 "cells": [
  {
   "cell_type": "code",
   "execution_count": 7,
   "metadata": {},
   "outputs": [],
   "source": [
    "import vector_database\n",
    "import embedding\n",
    "import wikipedia"
   ]
  },
  {
   "cell_type": "markdown",
   "metadata": {},
   "source": [
    "Titles of wikipedia articles that we want to have in our database:"
   ]
  },
  {
   "cell_type": "code",
   "execution_count": 8,
   "metadata": {},
   "outputs": [],
   "source": [
    "page_titles = [\n",
    "    \"United States\",\n",
    "    \"Python (programming language)\",\n",
    "    \"Blueberry\",\n",
    "    \"Donald Tusk\",\n",
    "    \"Vector space\",\n",
    "    \"Necktie\",\n",
    "    \"Sushi\",\n",
    "    \"Bicycle\",\n",
    "    \"Computer\",\n",
    "    \"Horse\",\n",
    "    \"Jupiter\",\n",
    "    \"Ordovician\",\n",
    "    \"Piano\",\n",
    "    \"2006 FIFA World Cup final\",\n",
    "    \"Tennis\",\n",
    "    \"Albus Dumbledore\",\n",
    "    \"The Beatles\",\n",
    "    \"World War I\",\n",
    "    \"World War II\",\n",
    "    \"Durum wheat\"\n",
    "]"
   ]
  },
  {
   "cell_type": "markdown",
   "metadata": {},
   "source": [
    "Database name should end in \"db\", so then it is ignored by git:"
   ]
  },
  {
   "cell_type": "code",
   "execution_count": 9,
   "metadata": {},
   "outputs": [],
   "source": [
    "database_name = \"wiki_db\""
   ]
  },
  {
   "cell_type": "markdown",
   "metadata": {},
   "source": [
    "This cell may take some time:"
   ]
  },
  {
   "cell_type": "code",
   "execution_count": null,
   "metadata": {},
   "outputs": [
    {
     "name": "stdout",
     "output_type": "stream",
     "text": [
      "Loaded embeddings for United States\n",
      "Loaded embeddings for Python (programming language)\n",
      "Loaded embeddings for Blueberry\n",
      "Loaded embeddings for Donald Tusk\n",
      "Loaded embeddings for Vector space\n",
      "Loaded embeddings for Necktie\n",
      "Loaded embeddings for Sushi\n",
      "Loaded embeddings for Bicycle\n",
      "Loaded embeddings for Computer\n",
      "Loaded embeddings for Horse\n",
      "Loaded embeddings for Jupiter\n",
      "Loaded embeddings for Ordovician\n",
      "Loaded embeddings for Piano\n",
      "Loaded embeddings for 2006 FIFA World Cup final\n",
      "Loaded embeddings for Tennis\n",
      "Loaded embeddings for Albus Dumbledore\n",
      "Loaded embeddings for The Beatles\n",
      "Loaded embeddings for World War I\n",
      "Loaded embeddings for World War II\n",
      "Loaded embeddings for Durum wheat\n"
     ]
    }
   ],
   "source": [
    "embeddings = []\n",
    "metadata = []\n",
    "\n",
    "# initialize empty - no folder exists yet\n",
    "db = vector_database.VectorDatabaseWraper()\n",
    "\n",
    "for page_title in page_titles:\n",
    "    section_titles = wikipedia.get_section_titles(page_title)\n",
    "    for section_title in section_titles:\n",
    "\n",
    "        # check if the section is already in the databases\n",
    "        if db.has_record({\"page_title\": page_title, \"section_title\": section_title}):\n",
    "            print(f\"Skipping {page_title} - {section_title}\")\n",
    "            continue\n",
    "        section_text = wikipedia.get_section_text(page_title, section_title)\n",
    "\n",
    "        embeddings.extend(embedding.embedding([section_text]))\n",
    "\n",
    "        metadata.append({\n",
    "            \"page_title\": page_title,\n",
    "            \"section_title\": section_title\n",
    "        })\n",
    "    print(f\"Loaded embeddings for {page_title}\")\n",
    "    "
   ]
  },
  {
   "cell_type": "code",
   "execution_count": 29,
   "metadata": {},
   "outputs": [
    {
     "data": {
      "text/plain": [
       "[{'page_title': 'United States', 'section_title': 'Etymology'},\n",
       " {'page_title': 'United States', 'section_title': 'History'},\n",
       " {'page_title': 'United States', 'section_title': 'Geography'},\n",
       " {'page_title': 'United States', 'section_title': 'Government and politics'},\n",
       " {'page_title': 'United States', 'section_title': 'Economy'},\n",
       " {'page_title': 'United States', 'section_title': 'Demographics'},\n",
       " {'page_title': 'United States', 'section_title': 'Culture and society'}]"
      ]
     },
     "execution_count": 29,
     "metadata": {},
     "output_type": "execute_result"
    }
   ],
   "source": [
    "[dic for dic in db.metadata if dic['page_title'] == 'United States']"
   ]
  },
  {
   "cell_type": "code",
   "execution_count": 25,
   "metadata": {},
   "outputs": [],
   "source": [
    "db.add(embeddings, metadata)\n",
    "db.save(database_name)"
   ]
  }
 ],
 "metadata": {
  "kernelspec": {
   "display_name": "base",
   "language": "python",
   "name": "python3"
  },
  "language_info": {
   "codemirror_mode": {
    "name": "ipython",
    "version": 3
   },
   "file_extension": ".py",
   "mimetype": "text/x-python",
   "name": "python",
   "nbconvert_exporter": "python",
   "pygments_lexer": "ipython3",
   "version": "3.12.4"
  }
 },
 "nbformat": 4,
 "nbformat_minor": 2
}
