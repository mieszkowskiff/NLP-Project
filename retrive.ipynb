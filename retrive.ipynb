{
 "cells": [
  {
   "cell_type": "code",
   "execution_count": 3,
   "metadata": {},
   "outputs": [],
   "source": [
    "import vector_database\n",
    "import embedding"
   ]
  },
  {
   "cell_type": "code",
   "execution_count": 12,
   "metadata": {},
   "outputs": [],
   "source": [
    "db = vector_database.VectorDatabaseWraper(\"wiki_db\")\n"
   ]
  },
  {
   "cell_type": "code",
   "execution_count": 13,
   "metadata": {},
   "outputs": [
    {
     "data": {
      "text/plain": [
       "([{'page_title': '2006 FIFA World Cup final', 'section_title': 'Background'},\n",
       "  {'page_title': '2006 FIFA World Cup final', 'section_title': 'Pre-match'},\n",
       "  {'page_title': '2006 FIFA World Cup final', 'section_title': 'Post-match'},\n",
       "  {'page_title': '2006 FIFA World Cup final', 'section_title': 'Venue'}],\n",
       " array([0.34809268, 0.37763622, 0.407531  , 0.49460912], dtype=float32))"
      ]
     },
     "execution_count": 13,
     "metadata": {},
     "output_type": "execute_result"
    }
   ],
   "source": [
    "query = \"Match in which Buffon played\"\n",
    "emb = embedding.embedding([query])[0]\n",
    "db.search(emb, 4)"
   ]
  }
 ],
 "metadata": {
  "kernelspec": {
   "display_name": ".venv",
   "language": "python",
   "name": "python3"
  },
  "language_info": {
   "codemirror_mode": {
    "name": "ipython",
    "version": 3
   },
   "file_extension": ".py",
   "mimetype": "text/x-python",
   "name": "python",
   "nbconvert_exporter": "python",
   "pygments_lexer": "ipython3",
   "version": "3.12.4"
  }
 },
 "nbformat": 4,
 "nbformat_minor": 2
}
