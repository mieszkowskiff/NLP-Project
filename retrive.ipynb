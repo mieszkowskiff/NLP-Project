{
 "cells": [
  {
   "cell_type": "code",
   "execution_count": null,
   "metadata": {},
   "outputs": [],
   "source": [
    "import vector_database\n",
    "import embedding"
   ]
  },
  {
   "cell_type": "code",
   "execution_count": null,
   "metadata": {},
   "outputs": [],
   "source": [
    "db = vector_database.VectorDatabaseWraper(\"wiki_db\")\n"
   ]
  },
  {
   "cell_type": "code",
   "execution_count": 6,
   "metadata": {},
   "outputs": [
    {
     "data": {
      "text/plain": [
       "([{'page_title': 'Bicycle', 'section_title': 'Social and historical aspects'},\n",
       "  {'page_title': '2006 FIFA World Cup final', 'section_title': 'Post-match'},\n",
       "  {'page_title': 'Jupiter', 'section_title': 'In culture'},\n",
       "  {'page_title': 'Python (programming language)',\n",
       "   'section_title': 'Programming examples'}],\n",
       " array([0.5224942, 0.524081 , 0.5256017, 0.5282499], dtype=float32))"
      ]
     },
     "execution_count": 6,
     "metadata": {},
     "output_type": "execute_result"
    }
   ],
   "source": [
    "query = \"Tell me some famous people\"\n",
    "emb = embedding.embedding([query])[0]\n",
    "db.search(emb, 4)"
   ]
  }
 ],
 "metadata": {
  "kernelspec": {
   "display_name": ".venv",
   "language": "python",
   "name": "python3"
  },
  "language_info": {
   "codemirror_mode": {
    "name": "ipython",
    "version": 3
   },
   "file_extension": ".py",
   "mimetype": "text/x-python",
   "name": "python",
   "nbconvert_exporter": "python",
   "pygments_lexer": "ipython3",
   "version": "3.12.4"
  }
 },
 "nbformat": 4,
 "nbformat_minor": 2
}
