{
 "cells": [
  {
   "cell_type": "code",
   "execution_count": 1,
   "metadata": {},
   "outputs": [],
   "source": [
    "import vector_database\n",
    "import embedding"
   ]
  },
  {
   "cell_type": "code",
   "execution_count": 2,
   "metadata": {},
   "outputs": [],
   "source": [
    "db = vector_database.VectorDatabaseWraper(\"star_wars_db\")\n"
   ]
  },
  {
   "cell_type": "code",
   "execution_count": 3,
   "metadata": {},
   "outputs": [],
   "source": [
    "query = \"Tell me about star wars movie\"\n",
    "emb = embedding.embedding([query])[0]\n"
   ]
  },
  {
   "cell_type": "code",
   "execution_count": 4,
   "metadata": {},
   "outputs": [
    {
     "name": "stdout",
     "output_type": "stream",
     "text": [
      "Time of searching: 0.002034902572631836, 40 nearest neighbours found\n",
      "              in the database of 614 records\n"
     ]
    },
    {
     "data": {
      "text/plain": [
       "([{'page_title': 'Star Wars: Episode IV - A New Hope',\n",
       "   'section_title': 'Sequels, prequels, and adaptations'},\n",
       "  {'page_title': 'Star Wars: Episode VI - Return of the Jedi',\n",
       "   'section_title': 'Prequels and sequels'},\n",
       "  {'page_title': 'Star Wars: Episode V - The Empire Strikes Back',\n",
       "   'section_title': 'Sequels, prequels, and adaptations'},\n",
       "  {'page_title': 'Star Wars: Episode VI - Return of the Jedi',\n",
       "   'section_title': 'Plot'},\n",
       "  {'page_title': 'Star Wars: Episode V - The Empire Strikes Back',\n",
       "   'section_title': 'Plot'},\n",
       "  {'page_title': 'Star Wars: Episode IV - A New Hope',\n",
       "   'section_title': 'Cinematic and literary allusions'},\n",
       "  {'page_title': 'Yavin IV', 'section_title': 'Context'},\n",
       "  {'page_title': 'Star Wars: Episode VI - Return of the Jedi',\n",
       "   'section_title': 'Legacy'},\n",
       "  {'page_title': 'Han Solo', 'section_title': 'Creation and development'},\n",
       "  {'page_title': 'Starkiller Base', 'section_title': 'Depiction'},\n",
       "  {'page_title': 'Death Star', 'section_title': 'Depiction'},\n",
       "  {'page_title': 'Star Wars: Episode IV - A New Hope',\n",
       "   'section_title': 'Plot'},\n",
       "  {'page_title': 'Star Wars: Episode I - The Phantom Menace',\n",
       "   'section_title': 'Legacy'},\n",
       "  {'page_title': 'Star Wars: Episode VII - The Force Awakens',\n",
       "   'section_title': 'Sequels'},\n",
       "  {'page_title': 'Star Wars: Episode II - Attack of the Clones',\n",
       "   'section_title': 'Sequel'},\n",
       "  {'page_title': 'Star Wars: The Bad Batch', 'section_title': 'Marketing'},\n",
       "  {'page_title': 'The Rebel Alliance',\n",
       "   'section_title': 'Brief list of appearances'},\n",
       "  {'page_title': 'Star Wars: Episode II - Attack of the Clones',\n",
       "   'section_title': 'Themes'},\n",
       "  {'page_title': 'The Force', 'section_title': 'Analysis'},\n",
       "  {'page_title': 'Star Wars: The Clone Wars (TV series)',\n",
       "   'section_title': 'Concept and development'},\n",
       "  {'page_title': 'Star Wars: Shadows of the Empire',\n",
       "   'section_title': 'Background'},\n",
       "  {'page_title': 'Star Wars: Episode V - The Empire Strikes Back',\n",
       "   'section_title': 'Cast'},\n",
       "  {'page_title': 'Star Wars: Episode VII - The Force Awakens',\n",
       "   'section_title': 'Plot'},\n",
       "  {'page_title': 'Solo: A Star Wars Story', 'section_title': 'Adaptations'},\n",
       "  {'page_title': 'Tatooine', 'section_title': 'Locations'},\n",
       "  {'page_title': 'Star Wars: Episode IV - A New Hope',\n",
       "   'section_title': 'Legacy and influence'},\n",
       "  {'page_title': 'Star Wars: Episode II - Attack of the Clones',\n",
       "   'section_title': 'Plot'},\n",
       "  {'page_title': 'The Star Wars Holiday Special', 'section_title': 'Segments'},\n",
       "  {'page_title': 'Star Wars: Episode VIII - The Last Jedi',\n",
       "   'section_title': 'Sequel'},\n",
       "  {'page_title': 'The Star Wars Holiday Special', 'section_title': 'Plot'},\n",
       "  {'page_title': 'Naboo', 'section_title': 'Appearances'},\n",
       "  {'page_title': 'Tatooine', 'section_title': 'Film appearances'},\n",
       "  {'page_title': 'Star Wars: Episode VI - Return of the Jedi',\n",
       "   'section_title': 'Cast'},\n",
       "  {'page_title': 'Star Wars: Episode IV - A New Hope',\n",
       "   'section_title': 'Cast'},\n",
       "  {'page_title': 'Star Wars: Episode III - Revenge of the Sith',\n",
       "   'section_title': 'Themes'},\n",
       "  {'page_title': 'Star Wars: Clone Wars Adventures',\n",
       "   'section_title': 'Setting'},\n",
       "  {'page_title': 'Millennium Falcon', 'section_title': 'Depiction'},\n",
       "  {'page_title': 'Clone Trooper', 'section_title': 'Reception'},\n",
       "  {'page_title': 'Star Wars: The Clone Wars (TV series)',\n",
       "   'section_title': 'Impact and critical response'},\n",
       "  {'page_title': 'Yavin IV', 'section_title': 'Legends Universe'}],\n",
       " array([0.27862865, 0.2919864 , 0.29676574, 0.29864615, 0.30565953,\n",
       "        0.30574918, 0.30739084, 0.3086983 , 0.31068635, 0.31410533,\n",
       "        0.31410533, 0.3155383 , 0.31611794, 0.31869072, 0.31870148,\n",
       "        0.31930357, 0.3204011 , 0.3243862 , 0.32540762, 0.32749465,\n",
       "        0.32750344, 0.3304489 , 0.33107948, 0.33252698, 0.33255458,\n",
       "        0.33276784, 0.3334094 , 0.3338252 , 0.33503646, 0.33555   ,\n",
       "        0.3372518 , 0.33736098, 0.3389369 , 0.3396054 , 0.34042186,\n",
       "        0.34190312, 0.34233868, 0.3428471 , 0.34355915, 0.34370354],\n",
       "       dtype=float32))"
      ]
     },
     "execution_count": 4,
     "metadata": {},
     "output_type": "execute_result"
    }
   ],
   "source": [
    "db.search(emb, 40)"
   ]
  }
 ],
 "metadata": {
  "kernelspec": {
   "display_name": ".venv",
   "language": "python",
   "name": "python3"
  },
  "language_info": {
   "codemirror_mode": {
    "name": "ipython",
    "version": 3
   },
   "file_extension": ".py",
   "mimetype": "text/x-python",
   "name": "python",
   "nbconvert_exporter": "python",
   "pygments_lexer": "ipython3",
   "version": "3.12.4"
  }
 },
 "nbformat": 4,
 "nbformat_minor": 2
}
