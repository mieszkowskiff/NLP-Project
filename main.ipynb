{
 "cells": [
  {
   "cell_type": "code",
   "execution_count": 1,
   "metadata": {},
   "outputs": [],
   "source": [
    "import vector_database\n",
    "import embedding\n",
    "import wikipedia"
   ]
  },
  {
   "cell_type": "markdown",
   "metadata": {},
   "source": [
    "# Creating Database:"
   ]
  },
  {
   "cell_type": "code",
   "execution_count": 2,
   "metadata": {},
   "outputs": [],
   "source": [
    "metadata = [\n",
    "    {\"url\": \"https://en.wikipedia.org/wiki/Python_(programming_language)\", \"subsection\": \"History\"},\n",
    "    {\"url\": \"https://en.wikipedia.org/wiki/Python_(programming_language)\", \"subsection\": \"Design philosophy and features\"},\n",
    "    {\"url\": \"https://en.wikipedia.org/wiki/Python_(programming_language)\", \"subsection\": \"Syntax and semantics\"},\n",
    "    {\"url\": \"https://en.wikipedia.org/wiki/Python_(programming_language)\", \"subsection\": \"Programming examples\"},\n",
    "    {\"url\": \"https://en.wikipedia.org/wiki/Python_(programming_language)\", \"subsection\": \"Libraries\"},\n",
    "    {\"url\": \"https://en.wikipedia.org/wiki/Python_(programming_language)\", \"subsection\": \"Development environments\"},\n",
    "    {\"url\": \"https://en.wikipedia.org/wiki/Python_(programming_language)\", \"subsection\": \"Implementations\"},\n",
    "    {\"url\": \"https://en.wikipedia.org/wiki/Python_(programming_language)\", \"subsection\": \"Development\"},\n",
    "    {\"url\": \"https://en.wikipedia.org/wiki/Python_(programming_language)\", \"subsection\": \"API documentation generators\"},\n",
    "    {\"url\": \"https://en.wikipedia.org/wiki/Python_(programming_language)\", \"subsection\": \"Naming\"},\n",
    "    {\"url\": \"https://en.wikipedia.org/wiki/Python_(programming_language)\", \"subsection\": \"Uses\"},\n",
    "    {\"url\": \"https://en.wikipedia.org/wiki/Python_(programming_language)\", \"subsection\": \"Languages influenced by Python\"}\n",
    "]"
   ]
  },
  {
   "cell_type": "code",
   "execution_count": 3,
   "metadata": {},
   "outputs": [],
   "source": [
    "texts = [\n",
    "    wikipedia.get_section_text(\"Python (programming language)\", \"History\"),\n",
    "    wikipedia.get_section_text(\"Python (programming language)\", \"Design philosophy and features\"),\n",
    "    wikipedia.get_section_text(\"Python (programming language)\", \"Syntax and semantics\"),\n",
    "    wikipedia.get_section_text(\"Python (programming language)\", \"Programming examples\"),\n",
    "    wikipedia.get_section_text(\"Python (programming language)\", \"Libraries\"),\n",
    "    wikipedia.get_section_text(\"Python (programming language)\", \"Development environments\"),\n",
    "    wikipedia.get_section_text(\"Python (programming language)\", \"Implementations\"),\n",
    "    wikipedia.get_section_text(\"Python (programming language)\", \"Development\"),\n",
    "    wikipedia.get_section_text(\"Python (programming language)\", \"API documentation generators\"),\n",
    "    wikipedia.get_section_text(\"Python (programming language)\", \"Naming\"),\n",
    "    wikipedia.get_section_text(\"Python (programming language)\", \"Uses\"),\n",
    "    wikipedia.get_section_text(\"Python (programming language)\", \"Languages influenced by Python\")\n",
    "]"
   ]
  },
  {
   "cell_type": "code",
   "execution_count": 12,
   "metadata": {},
   "outputs": [],
   "source": [
    "embeddings = embedding.embedding(texts)\n",
    "\n",
    "db = vector_database.VectorDatabaseWraper()\n",
    "db.add(embeddings, metadata)\n",
    "db.save(\"python_wikipedia_database\")"
   ]
  },
  {
   "cell_type": "markdown",
   "metadata": {},
   "source": [
    "# Finding stuff in database:"
   ]
  },
  {
   "cell_type": "code",
   "execution_count": 4,
   "metadata": {},
   "outputs": [
    {
     "name": "stdout",
     "output_type": "stream",
     "text": [
      "([{'url': 'https://en.wikipedia.org/wiki/Python_(programming_language)', 'subsection': 'Languages influenced by Python'}, {'url': 'https://en.wikipedia.org/wiki/Python_(programming_language)', 'subsection': 'History'}, {'url': 'https://en.wikipedia.org/wiki/Python_(programming_language)', 'subsection': 'Naming'}], array([0.32894814, 0.35119322, 0.37460876], dtype=float32))\n"
     ]
    }
   ],
   "source": [
    "db = vector_database.VectorDatabaseWraper(\"python_wikipedia_database\")\n",
    "print(db.search(embedding.embedding([\"Who is the designer of Python?\"]), 3))"
   ]
  }
 ],
 "metadata": {
  "kernelspec": {
   "display_name": ".venv",
   "language": "python",
   "name": "python3"
  },
  "language_info": {
   "codemirror_mode": {
    "name": "ipython",
    "version": 3
   },
   "file_extension": ".py",
   "mimetype": "text/x-python",
   "name": "python",
   "nbconvert_exporter": "python",
   "pygments_lexer": "ipython3",
   "version": "3.12.3"
  }
 },
 "nbformat": 4,
 "nbformat_minor": 2
}
